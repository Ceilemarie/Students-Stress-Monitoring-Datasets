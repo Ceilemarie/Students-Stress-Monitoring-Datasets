{
 "cells": [
  {
   "cell_type": "code",
   "execution_count": 6,
   "id": "21726dff",
   "metadata": {},
   "outputs": [
    {
     "name": "stderr",
     "output_type": "stream",
     "text": [
      "/usr/local/python/3.12.1/lib/python3.12/site-packages/tqdm/auto.py:21: TqdmWarning: IProgress not found. Please update jupyter and ipywidgets. See https://ipywidgets.readthedocs.io/en/stable/user_install.html\n",
      "  from .autonotebook import tqdm as notebook_tqdm\n"
     ]
    },
    {
     "name": "stdout",
     "output_type": "stream",
     "text": [
      "Downloading from https://www.kaggle.com/api/v1/datasets/download/mdsultanulislamovi/student-stress-monitoring-datasets?dataset_version_number=1...\n"
     ]
    },
    {
     "name": "stderr",
     "output_type": "stream",
     "text": [
      "100%|██████████| 23.8k/23.8k [00:00<00:00, 17.1MB/s]"
     ]
    },
    {
     "name": "stdout",
     "output_type": "stream",
     "text": [
      "Extracting files...\n",
      "Path to dataset files: /workspaces/Students-Stress-Monitoring-Datasets/dataset\n"
     ]
    },
    {
     "name": "stderr",
     "output_type": "stream",
     "text": [
      "\n"
     ]
    }
   ],
   "source": [
    "import os\n",
    "import shutil\n",
    "import kagglehub\n",
    " \n",
    "try:\n",
    "    src = kagglehub.dataset_download(\"mdsultanulislamovi/student-stress-monitoring-datasets\")\n",
    "    dst = \"/workspaces/Students-Stress-Monitoring-Datasets/dataset\"\n",
    "    os.makedirs(dst, exist_ok=True)\n",
    " \n",
    "    for name in os.listdir(src):\n",
    "        s = os.path.join(src, name)\n",
    "        d = os.path.join(dst, name)\n",
    "        if os.path.isdir(s):\n",
    "            shutil.copytree(s, d, dirs_exist_ok=True)\n",
    "        else:\n",
    "            shutil.copy2(s, d)\n",
    " \n",
    "    print(\"Path to dataset files:\", dst)\n",
    "except Exception as e:\n",
    "    print(\"F\",e)"
   ]
  }
 ],
 "metadata": {
  "kernelspec": {
   "display_name": "Python 3",
   "language": "python",
   "name": "python3"
  },
  "language_info": {
   "codemirror_mode": {
    "name": "ipython",
    "version": 3
   },
   "file_extension": ".py",
   "mimetype": "text/x-python",
   "name": "python",
   "nbconvert_exporter": "python",
   "pygments_lexer": "ipython3",
   "version": "3.12.1"
  }
 },
 "nbformat": 4,
 "nbformat_minor": 5
}
