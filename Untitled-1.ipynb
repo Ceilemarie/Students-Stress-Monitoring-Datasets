{
 "cells": [
  {
   "cell_type": "code",
   "execution_count": 8,
   "id": "21726dff",
   "metadata": {},
   "outputs": [
    {
     "name": "stdout",
     "output_type": "stream",
     "text": [
      "Path to dataset files: /workspaces/Students-Stress-Monitoring-Datasets/dataset\n"
     ]
    }
   ],
   "source": [
    "import os\n",
    "import shutil\n",
    "import kagglehub\n",
    " \n",
    "try:\n",
    "    src = kagglehub.dataset_download(\"mdsultanulislamovi/student-stress-monitoring-datasets\")\n",
    "    dst = \"/workspaces/Students-Stress-Monitoring-Datasets/dataset\"\n",
    "    os.makedirs(dst, exist_ok=True)\n",
    " \n",
    "    for name in os.listdir(src):\n",
    "        s = os.path.join(src, name)\n",
    "        d = os.path.join(dst, name)\n",
    "        if os.path.isdir(s):\n",
    "            shutil.copytree(s, d, dirs_exist_ok=True)\n",
    "        else:\n",
    "            shutil.copy2(s, d)\n",
    " \n",
    "    print(\"Path to dataset files:\", dst)\n",
    "except Exception as e:\n",
    "    print(\"F\",e)"
   ]
  }
 ],
 "metadata": {
  "kernelspec": {
   "display_name": "Python 3",
   "language": "python",
   "name": "python3"
  },
  "language_info": {
   "codemirror_mode": {
    "name": "ipython",
    "version": 3
   },
   "file_extension": ".py",
   "mimetype": "text/x-python",
   "name": "python",
   "nbconvert_exporter": "python",
   "pygments_lexer": "ipython3",
   "version": "3.12.1"
  }
 },
 "nbformat": 4,
 "nbformat_minor": 5
}
